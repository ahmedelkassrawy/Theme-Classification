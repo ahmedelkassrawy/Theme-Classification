{
 "cells": [
  {
   "cell_type": "code",
   "execution_count": 11,
   "metadata": {},
   "outputs": [],
   "source": [
    "from transformers import pipeline \n",
    "from nltk import sent_tokenize\n",
    "import nltk\n",
    "import pandas as pd\n",
    "import numpy as np"
   ]
  },
  {
   "cell_type": "code",
   "execution_count": 3,
   "metadata": {},
   "outputs": [
    {
     "name": "stderr",
     "output_type": "stream",
     "text": [
      "[nltk_data] Downloading package punkt to\n",
      "[nltk_data]     C:\\Users\\Dell\\AppData\\Roaming\\nltk_data...\n",
      "[nltk_data]   Package punkt is already up-to-date!\n"
     ]
    },
    {
     "data": {
      "text/plain": [
       "True"
      ]
     },
     "execution_count": 3,
     "metadata": {},
     "output_type": "execute_result"
    }
   ],
   "source": [
    "nltk.download('punkt')"
   ]
  },
  {
   "cell_type": "code",
   "execution_count": 7,
   "metadata": {},
   "outputs": [],
   "source": [
    "#Load model\n",
    "import torch\n",
    "model_name = \"facebook/bart-large-mnli\"\n",
    "device = 0 if torch.cuda.is_available() else \"cpu\""
   ]
  },
  {
   "cell_type": "code",
   "execution_count": 8,
   "metadata": {},
   "outputs": [
    {
     "data": {
      "text/plain": [
       "'cpu'"
      ]
     },
     "execution_count": 8,
     "metadata": {},
     "output_type": "execute_result"
    }
   ],
   "source": [
    "device"
   ]
  },
  {
   "cell_type": "code",
   "execution_count": 2,
   "metadata": {},
   "outputs": [],
   "source": [
    "def load_model(device):\n",
    "    theme_classifier = pipeline('zero-shot-classification', \n",
    "                                model=model_name, \n",
    "                                device=device)\n",
    "    \n",
    "    return theme_classifier"
   ]
  },
  {
   "cell_type": "code",
   "execution_count": 12,
   "metadata": {},
   "outputs": [
    {
     "name": "stderr",
     "output_type": "stream",
     "text": [
      "Device set to use cpu\n"
     ]
    }
   ],
   "source": [
    "import tf_keras as keras\n",
    "theme_classifier = load_model(device)"
   ]
  },
  {
   "cell_type": "code",
   "execution_count": 13,
   "metadata": {},
   "outputs": [],
   "source": [
    "theme_list = [\"friendship\",\"hope\",\"sacrifice\",\"battle\",\"self development\",\"betrayal\",\"love\",\"dialogue\"]"
   ]
  },
  {
   "cell_type": "code",
   "execution_count": 14,
   "metadata": {},
   "outputs": [
    {
     "data": {
      "text/plain": [
       "{'sequence': 'I am happy',\n",
       " 'labels': ['hope',\n",
       "  'self development',\n",
       "  'love',\n",
       "  'friendship',\n",
       "  'dialogue',\n",
       "  'sacrifice',\n",
       "  'battle',\n",
       "  'betrayal'],\n",
       " 'scores': [0.8801074624061584,\n",
       "  0.7842949628829956,\n",
       "  0.697178840637207,\n",
       "  0.5588222146034241,\n",
       "  0.45043066143989563,\n",
       "  0.17154011130332947,\n",
       "  0.000771188351791352,\n",
       "  6.44458705210127e-05]}"
      ]
     },
     "execution_count": 14,
     "metadata": {},
     "output_type": "execute_result"
    }
   ],
   "source": [
    "theme_classifier(\"I am happy\", theme_list,\n",
    "                 multi_label=True)"
   ]
  },
  {
   "cell_type": "code",
   "execution_count": 10,
   "metadata": {},
   "outputs": [],
   "source": [
    "#Load Dataset\n",
    "from glob import glob\n",
    "files = glob('D:/me/Project_NLP/data/subtitles/*.ass')"
   ]
  },
  {
   "cell_type": "code",
   "execution_count": 11,
   "metadata": {},
   "outputs": [
    {
     "data": {
      "text/plain": [
       "['D:/me/Project_NLP/data/subtitles\\\\Naruto Season 1 - 01.ass',\n",
       " 'D:/me/Project_NLP/data/subtitles\\\\Naruto Season 1 - 02.ass',\n",
       " 'D:/me/Project_NLP/data/subtitles\\\\Naruto Season 1 - 03.ass',\n",
       " 'D:/me/Project_NLP/data/subtitles\\\\Naruto Season 1 - 04.ass',\n",
       " 'D:/me/Project_NLP/data/subtitles\\\\Naruto Season 1 - 05.ass']"
      ]
     },
     "execution_count": 11,
     "metadata": {},
     "output_type": "execute_result"
    }
   ],
   "source": [
    "files[:5]"
   ]
  },
  {
   "cell_type": "code",
   "execution_count": 12,
   "metadata": {},
   "outputs": [],
   "source": [
    "with open(files[0], 'r', encoding='utf-8') as file:\n",
    "    lines = file.readlines()\n",
    "    lines = lines[27:]  # Skip the first 27 lines (metadata/headers)\n",
    "    \n",
    "    # Process each line: split by comma, rejoin from index 9 onward\n",
    "    lines = [\",\".join(line.strip().split(',')[9:]) for line in lines]"
   ]
  },
  {
   "cell_type": "code",
   "execution_count": 13,
   "metadata": {},
   "outputs": [
    {
     "data": {
      "text/plain": [
       "['A long time ago, a powerful demon fox\\\\Nappeared with nine tails.',\n",
       " 'With its powerful tails,']"
      ]
     },
     "execution_count": 13,
     "metadata": {},
     "output_type": "execute_result"
    }
   ],
   "source": [
    "lines[:2]"
   ]
  },
  {
   "cell_type": "code",
   "execution_count": 14,
   "metadata": {},
   "outputs": [],
   "source": [
    "lines = [line.replace('\\\\N',' ') for line in lines]"
   ]
  },
  {
   "cell_type": "code",
   "execution_count": 15,
   "metadata": {},
   "outputs": [
    {
     "data": {
      "text/plain": [
       "['A long time ago, a powerful demon fox appeared with nine tails.',\n",
       " 'With its powerful tails,']"
      ]
     },
     "execution_count": 15,
     "metadata": {},
     "output_type": "execute_result"
    }
   ],
   "source": [
    "lines[:2]"
   ]
  },
  {
   "cell_type": "code",
   "execution_count": 16,
   "metadata": {},
   "outputs": [
    {
     "data": {
      "text/plain": [
       "\"A long time ago, a powerful demon fox appeared with nine tails. With its powerful tails, it could smash mountains and create tidal waves. A band of Ninjas rose to defend their village from attack. We have to wait until the Fourth Hokage gets here! We can't let it get any closer to our village! One great Ninja was able to imprison the monster, but died in the process. This Ninja was known as… the Fourth Hokage. Naruto!\""
      ]
     },
     "execution_count": 16,
     "metadata": {},
     "output_type": "execute_result"
    }
   ],
   "source": [
    "' '.join(lines[:10])"
   ]
  },
  {
   "cell_type": "code",
   "execution_count": 17,
   "metadata": {},
   "outputs": [
    {
     "data": {
      "text/plain": [
       "1"
      ]
     },
     "execution_count": 17,
     "metadata": {},
     "output_type": "execute_result"
    }
   ],
   "source": [
    "#Extract subtitle num\n",
    "int(files[0].split('-')[-1].split('.')[0].strip())"
   ]
  },
  {
   "cell_type": "code",
   "execution_count": 18,
   "metadata": {},
   "outputs": [],
   "source": [
    "import pandas as pd\n",
    "from glob import glob\n",
    "\n",
    "def load_subtitles_dataset(dataset_path):\n",
    "    # Get all .ass files in the dataset path\n",
    "    subtitles_paths = glob(dataset_path + '/*.ass')\n",
    "\n",
    "    scripts = []\n",
    "    episode_num = []\n",
    "\n",
    "    for path in subtitles_paths:\n",
    "        try:\n",
    "            # Read lines from the current file\n",
    "            with open(path, 'r', encoding='utf-8') as file:\n",
    "                lines = file.readlines()\n",
    "                lines = lines[27:]  # Skip the first 27 lines (metadata/headers)\n",
    "\n",
    "                # Process each line: split by comma, rejoin from index 9 onward\n",
    "                lines = [\",\".join(line.strip().split(',')[9:]) for line in lines]\n",
    "\n",
    "            # Replace newline markers and join lines into a single script\n",
    "            lines = [line.replace('\\\\N', ' ') for line in lines]\n",
    "            script = \" \".join(lines)\n",
    "            scripts.append(script)\n",
    "\n",
    "            # Extract episode number from the filename\n",
    "            episode = int(path.split('-')[-1].split('.')[0].strip())\n",
    "            episode_num.append(episode)\n",
    "        except Exception as e:\n",
    "            print(f\"Error processing file {path}: {e}\")\n",
    "            continue\n",
    "\n",
    "    # Create a DataFrame from the collected data\n",
    "    df = pd.DataFrame.from_dict({\"episode\": episode_num, \"script\": scripts})\n",
    "    return df"
   ]
  },
  {
   "cell_type": "code",
   "execution_count": 19,
   "metadata": {},
   "outputs": [],
   "source": [
    "dataset_path = 'D:/me/Project_NLP/data/subtitles'"
   ]
  },
  {
   "cell_type": "code",
   "execution_count": 20,
   "metadata": {},
   "outputs": [],
   "source": [
    "df = load_subtitles_dataset(dataset_path)"
   ]
  },
  {
   "cell_type": "code",
   "execution_count": 21,
   "metadata": {},
   "outputs": [
    {
     "data": {
      "text/html": [
       "<div>\n",
       "<style scoped>\n",
       "    .dataframe tbody tr th:only-of-type {\n",
       "        vertical-align: middle;\n",
       "    }\n",
       "\n",
       "    .dataframe tbody tr th {\n",
       "        vertical-align: top;\n",
       "    }\n",
       "\n",
       "    .dataframe thead th {\n",
       "        text-align: right;\n",
       "    }\n",
       "</style>\n",
       "<table border=\"1\" class=\"dataframe\">\n",
       "  <thead>\n",
       "    <tr style=\"text-align: right;\">\n",
       "      <th></th>\n",
       "      <th>episode</th>\n",
       "      <th>script</th>\n",
       "    </tr>\n",
       "  </thead>\n",
       "  <tbody>\n",
       "    <tr>\n",
       "      <th>0</th>\n",
       "      <td>1</td>\n",
       "      <td>A long time ago, a powerful demon fox appeared...</td>\n",
       "    </tr>\n",
       "    <tr>\n",
       "      <th>1</th>\n",
       "      <td>2</td>\n",
       "      <td>C'mon! Running like a fugitive, Being chased b...</td>\n",
       "    </tr>\n",
       "    <tr>\n",
       "      <th>2</th>\n",
       "      <td>3</td>\n",
       "      <td>C'mon! Running like a fugitive, Being chased b...</td>\n",
       "    </tr>\n",
       "    <tr>\n",
       "      <th>3</th>\n",
       "      <td>4</td>\n",
       "      <td>C'mon! Running like a fugitive, Being chased b...</td>\n",
       "    </tr>\n",
       "    <tr>\n",
       "      <th>4</th>\n",
       "      <td>5</td>\n",
       "      <td>C'mon! Running like a fugitive, Being chased b...</td>\n",
       "    </tr>\n",
       "  </tbody>\n",
       "</table>\n",
       "</div>"
      ],
      "text/plain": [
       "   episode                                             script\n",
       "0        1  A long time ago, a powerful demon fox appeared...\n",
       "1        2  C'mon! Running like a fugitive, Being chased b...\n",
       "2        3  C'mon! Running like a fugitive, Being chased b...\n",
       "3        4  C'mon! Running like a fugitive, Being chased b...\n",
       "4        5  C'mon! Running like a fugitive, Being chased b..."
      ]
     },
     "execution_count": 21,
     "metadata": {},
     "output_type": "execute_result"
    }
   ],
   "source": [
    "df.head()"
   ]
  },
  {
   "cell_type": "code",
   "execution_count": 22,
   "metadata": {},
   "outputs": [],
   "source": [
    "#Run model"
   ]
  },
  {
   "cell_type": "code",
   "execution_count": 23,
   "metadata": {},
   "outputs": [],
   "source": [
    "script = df.iloc[0]['script']"
   ]
  },
  {
   "cell_type": "code",
   "execution_count": 24,
   "metadata": {},
   "outputs": [
    {
     "data": {
      "text/plain": [
       "'A long time ago, a powerful demon fox appeared with nine tails. With its powerful tails, it could smash mountains and create tidal waves. A band of Ninjas rose to defend their village from attack. We have to wait until the Fourth Hokage gets here! We can\\'t let it get any closer to our village! One great Ninja was able to imprison the monster, but died in the process. This Ninja was known as… the Fourth Hokage. Naruto! Why did you do such a thing?! You\\'re really gonna get it this time! I don\\'t care! You know your problem? You can\\'t do the things I do! Only I can do this! I\\'m better than all of you! Believe it! There\\'s a problem, sir! Lord Hokage! What is it? Did that Naruto do something again? Yes. He climbed onto the Mountainside Images… And he vandalized and graffitied all over them! Wait! Ha ha… Why should I? Hey, Naruto! How did you suddenly get here, lruka Sensei? The question is what are you doing here when you should be in class now? Now listen, Naruto. You failed the last graduation test and the one before that. This is no time to be goofing off, you fool! We will have a re-test on the Transformation Jutsu! Even those who already passed will take it! Whaaaat?! Sakura Haruno. Here I go… Transform! OK! I did it! Cha! Did you see that, Sasuke? Next, Sasuke Uchiha. Yes. O-OK. Next, Naruto Uzumaki. This is a real pain. And it\\'s all your fault. Like I care!! OK… Good luck, Naruto… Transform! How was it? I call it the \"Sexy Jutsu\"! You fool! Stop making idiotic spells! Darn… Darn… I won\\'t let you go home unless you clean that all up. I don\\'t care… There\\'s nobody home anyway. Naruto... What is it this time? What I meant was… If you clean up all that mess, I\\'ll buy you ramen tonight. Huh?! Yes! I-I will finish it no time! Enter: Naruto Uzumaki! Naruto. Why did you vandalize those faces? Don\\'t you know who the Hokage leaders are? Of course, I do! I know they earned the title Lord Hokage because they were the best Ninja of their time, right? Especially the Fourth Hokage was a hero who saved the village from the nine-tail demon fox. Then why did you do that? Because I\\'ll become a Hokage myself. And I\\'ll be the greatest Hokage of all time! So that everyone will finally learn to accept me! By the way, Sensei, I have a favor to ask. You want another bowl? Mmmm…No… Can I borrow that Leaf headband for a while? This? No no! This is worn only by those who have graduated from Ninja Academy. Tomorrow, you will… You\\'re so mean! So that\\'s why you took off your goggles… Humph... One more bowl please! We are now about to begin the graduation test. When your name is called, proceed to the next classroom. The test is on the Clone Jutsu. Oh no… Of all the…! That is my weakest Jutsu! But still… I will do it no matter what! Clone Jutsu! Disqualified! Iruka Sensei. His physical coordination and stamina are excellent. And he managed to come up with something. Isn\\'t that enough for him to pass? Mizuki Sensei... All the others created three or more clones. Naruto created just one. And it\\'s practically useless. I can\\'t give him a passing mark. I \\'m a Ninja now! You did well. That\\'s my son. Congratulations for your graduation. I\\'ll cook something good tonight! Look at that one. It\\'s that boy. I hear he\\'s the only one who failed. Serves him right. Imagine what would happen if he became a Ninja. Isn\\'t that the boy who is actually… Hey! We\\'re not supposed to talk about that. Iruka. We need to talk later. Yes, sir. Iruka Sensei isn\\'t trying to be mean to you. Then why only me? He wants you to become strong from the bottom of his heart. You both don\\'t have parents. But I really wanted to graduate. Heh... I guess I have no choice… I\\'ll let you in on a big secret. Secret? Iruka. What is it, Lord Hokage? I know how you feel. But… Naruto also grew up without knowing the love of his parents…like you. Let me go! My mom and dad are still out there fighting! Wake up, Iruka Sensei! What\\'s the matter? Come to Lord Hokage\\'s immediately! I heard that Naruto… stole the Scroll of Sealing. The Scroll of Sealing?! Let\\'s see… The first Jutsu is… Multi-Shadow Clone Jutsu? What?! Already a Jutsu I\\'m no good at? Lord Hokage! We can\\'t forgive him! This is not just a prank! The Scroll is a dangerous item that the First Hokage sealed! Depending on its use… It will be a major disaster if it is taken out of the village! Yes. Bring Naruto here at once! Yes, sir! Where did you go…Naruto? I will tell everyone in the village about this and eliminate Naruto… Then the Scroll of Sealing will be mine! Hey you, Naruto! You found me.. And I\\'ve only learned one Jutsu. He\\'s been practicing the Jutsu… until he\\'s become this exhausted and dirty…? Listen, listen! I\\'m gonna show you this amazing Jutsu! You\\'re gonna let me graduate if I can do it! Isn\\'t it true that I can graduate if I can do one of the Jutsu written here? Who told you that? Mizuki Sensei. He told me about this scroll, and this place… Mizuki did?! I\\'m impressed you found this place. I see now…how it is. Naruto, give me that scroll. Wait, wait… What\\'s going on here? Naruto! Never give him that scroll! It is a dangerous object that contains forbidden Ninja Jutsu. It was sealed. Mizuki used you in order to get it for himself! W-Wha--? Naruto, Iruka is only afraid of you holding that scroll! Huh? What are you saying, Mizuki! Don\\'t let him fool you, Naruto! I will tell you the truth. Idiot! Don\\'t do that! After an incident 12 years ago, a rule was created. A rule? That is, Naruto, a rule everybody but you knows. Except me?! \\t\\t\\t\\t\\tWhat is it? Stop it, Mizuki! The rule forbids anyone from revealing that you are actually the Demon Fox Spirit! Huh? You are actually the Demon, Nine-Tailed Fox Spirit, who killed Iruka\\'s parents and destroyed our village! Stop it! Everyone has been deceiving you ever since. Didn\\'t you find it strange? Why everyone hated you so much? No! No! No! No! No! Naruto… Nobody accepts you. That\\'s why Iruka hates you so much! Iruka... Naruto grew up without the love of parents. Everyone avoids him like the plague after what happened. That\\'s why he keeps misbehaving. It\\'s the only way for him to get any attention or acknowledgement. He pretends to be tough, but inside he is really hurting. Die, Naruto! Naruto! \\t\\t\\t\\t\\tGet down! Why…? Because you and I are the same. After my parents died, nobody paid attention to me or gave me any support. I wasn\\'t a good student in school. I was the class clown… because I wanted people to notice me. I couldn\\'t get noticed through excellence, so I kept doing stupid things. It was so hard. Isn\\'t that right, Naruto? You felt so lonely…right? And you suffered inside, right? I\\'m sorry, Naruto…. If I had been more responsible, maybe you wouldn\\'t have suffered so much. Don\\'t make me laugh! Iruka has always hated you, ever since you killed his parents! He\\'s just saying all that to get the Scroll of Sealing back! Naruto! Narutoooooo! He is not the type of kid who will change his mind. He will take revenge against our village using that scroll! Didn\\'t you see his eyes? Those are the eyes of a Demon Fox. No… Naruto…isn\\'t…like that at all! All I want is to kill Naruto and get the scroll. I\\'ll take care of you later! I-I won\\'t let you… Well, well. Mizuki has a big mouth! Naruto feels worse than he\\'s ever felt. He might unleash the power locked up inside him. The Scroll of Sealing is now with him. There\\'s a slight chance he might actually release the Nine-Tailed Fox Spirit sealed inside him! If that happens… I\\'ve found him! Naruto! Everything that Mizuki said was a lie! Give me that scroll, quick! Mizuki is after the scroll! It can\\'t be… Why is it, Naruto? How… did you know I wasn\\'t Iruka…? Because I\\'m Iruka. I see. What\\'s in it for you to protect the one who killed your family? I\\'m not gonna let a stupid idiot like you get that scroll! You\\'re the idiot. Naruto is the same as me. Same? Anyone can do whatever he wants once he has the scroll. There is no way that that monster… that Fox Spirit, won\\'t take advantage of the power of that scroll! You\\'re right… I guess it was true all along! See, Iruka Sensei never really cared for me at all! ...if he was the Demon Fox Spirit. But Naruto is different! I know that he is an exceptional student. He works very hard, and he\\'s single-minded and clumsy at the same time. No one accepts him, but he knows the meaning of human suffering. He is not the Demon Fox Spirit. He\\'s Naruto Uzumaki of the Village Hidden in the Leaves! You are so gullible. \\t\\t\\t\\t\\tlruka! I was gonna take you down later, but I have changed my mind. Die! I guess this is the end for me… Naruto?! You surprised me there, freak. If you ever lay a hand on Iruka Sensei, I\\'ll kill you! Shut up! I can take care of a kid like you with a single blow! Why don\\'t you try then? I\\'ll strike you back a thousand-fold! Let\\'s see you try! Show me what you can do, Demon Fox! Shadow Clone Jutsu! Naruto! You\\'ve… Those aren\\'t just images but actual clones! That\\'s an advanced Ninjutsu! What\\'s this…? What\\'s the matter? \\t\\t\\t\\t\\tC\\'mon! Weren\\'t you gonna get me with one blow? Here! In that case… I\\'ll come to you. I kinda got carried away. lruka Sensei, are you okay? Yeah. He\\'s really something. Maybe it is true. Maybe he will surpass all the Hokage leaders… Naruto, come over here. I\\'d like to give you something. Has anyone found Naruto yet? No. Darn, this is going to be bad… There\\'s no need to worry anymore. Lord Hokage! He\\'ll be back soon. Sensei, how much longer? OK, you may open your eyes now. Congratulations…on your graduation. In celebration, we\\'ll have ramen tonight! Iruka Sensei! That hurts! Naruto… I was going to lecture to you... that the road gets more difficult now that you\\'re a Ninja. But I guess I\\'ll just wait to tell you that until we get to the ramen stand… W-What do you want, you little shrimp? Quit following me! You\\'re smaller than me and you\\'re saying that you\\'re gonna become the Fifth Hokage? I don\\'t care if you are the 3rd Hokage\\'s grandson or not. It\\'s not that easy to be a Hokage! If you want it that bad, you\\'re gonna have to beat me first! Next episode:  \"My Name Is Konohamaru!\" Watch my outstanding performance!'"
      ]
     },
     "execution_count": 24,
     "metadata": {},
     "output_type": "execute_result"
    }
   ],
   "source": [
    "script"
   ]
  },
  {
   "cell_type": "code",
   "execution_count": 25,
   "metadata": {},
   "outputs": [
    {
     "data": {
      "text/plain": [
       "'A long time ago, a powerful demon fox appeared with nine tails. With its powerful tails, it could smash mountains and create tidal waves. A band of Ninjas rose to defend their village from attack. We have to wait until the Fourth Hokage gets here! We can\\'t let it get any closer to our village! One great Ninja was able to imprison the monster, but died in the process. This Ninja was known as… the Fourth Hokage. Naruto! Why did you do such a thing?! You\\'re really gonna get it this time! I don\\'t care! You know your problem? You can\\'t do the things I do! Only I can do this! I\\'m better than all of you! Believe it! There\\'s a problem, sir! Lord Hokage! What is it? Did that Naruto do something again? Yes. He climbed onto the Mountainside Images… And he vandalized and graffitied all over them! Wait! Ha ha… Why should I? Hey, Naruto! How did you suddenly get here, lruka Sensei? The question is what are you doing here when you should be in class now? Now listen, Naruto. You failed the last graduation test and the one before that. This is no time to be goofing off, you fool! We will have a re-test on the Transformation Jutsu! Even those who already passed will take it! Whaaaat?! Sakura Haruno. Here I go… Transform! OK! I did it! Cha! Did you see that, Sasuke? Next, Sasuke Uchiha. Yes. O-OK. Next, Naruto Uzumaki. This is a real pain. And it\\'s all your fault. Like I care!! OK… Good luck, Naruto… Transform! How was it? I call it the \"Sexy Jutsu\"! You fool! Stop making idiotic spells! Darn… Darn… I won\\'t let you go home unless you clean that all up. I don\\'t care… There\\'s nobody home anyway. Naruto... What is it this time? What I meant was… If you clean up all that mess, I\\'ll buy you ramen tonight. Huh?! Yes! I-I will finish it no time! Enter: Naruto Uzumaki! Naruto. Why did you vandalize those faces? Don\\'t you know who the Hokage leaders are? Of course, I do! I know they earned the title Lord Hokage because they were the best Ninja of their time, right? Especially the Fourth Hokage was a hero who saved the village from the nine-tail demon fox. Then why did you do that? Because I\\'ll become a Hokage myself. And I\\'ll be the greatest Hokage of all time! So that everyone will finally learn to accept me! By the way, Sensei, I have a favor to ask. You want another bowl? Mmmm…No… Can I borrow that Leaf headband for a while? This? No no! This is worn only by those who have graduated from Ninja Academy. Tomorrow, you will… You\\'re so mean! So that\\'s why you took off your goggles… Humph... One more bowl please! We are now about to begin the graduation test. When your name is called, proceed to the next classroom. The test is on the Clone Jutsu. Oh no… Of all the…! That is my weakest Jutsu! But still… I will do it no matter what! Clone Jutsu! Disqualified! Iruka Sensei. His physical coordination and stamina are excellent. And he managed to come up with something. Isn\\'t that enough for him to pass? Mizuki Sensei... All the others created three or more clones. Naruto created just one. And it\\'s practically useless. I can\\'t give him a passing mark. I \\'m a Ninja now! You did well. That\\'s my son. Congratulations for your graduation. I\\'ll cook something good tonight! Look at that one. It\\'s that boy. I hear he\\'s the only one who failed. Serves him right. Imagine what would happen if he became a Ninja. Isn\\'t that the boy who is actually… Hey! We\\'re not supposed to talk about that. Iruka. We need to talk later. Yes, sir. Iruka Sensei isn\\'t trying to be mean to you. Then why only me? He wants you to become strong from the bottom of his heart. You both don\\'t have parents. But I really wanted to graduate. Heh... I guess I have no choice… I\\'ll let you in on a big secret. Secret? Iruka. What is it, Lord Hokage? I know how you feel. But… Naruto also grew up without knowing the love of his parents…like you. Let me go! My mom and dad are still out there fighting! Wake up, Iruka Sensei! What\\'s the matter? Come to Lord Hokage\\'s immediately! I heard that Naruto… stole the Scroll of Sealing. The Scroll of Sealing?! Let\\'s see… The first Jutsu is… Multi-Shadow Clone Jutsu? What?! Already a Jutsu I\\'m no good at? Lord Hokage! We can\\'t forgive him! This is not just a prank! The Scroll is a dangerous item that the First Hokage sealed! Depending on its use… It will be a major disaster if it is taken out of the village! Yes. Bring Naruto here at once! Yes, sir! Where did you go…Naruto? I will tell everyone in the village about this and eliminate Naruto… Then the Scroll of Sealing will be mine! Hey you, Naruto! You found me.. And I\\'ve only learned one Jutsu. He\\'s been practicing the Jutsu… until he\\'s become this exhausted and dirty…? Listen, listen! I\\'m gonna show you this amazing Jutsu! You\\'re gonna let me graduate if I can do it! Isn\\'t it true that I can graduate if I can do one of the Jutsu written here? Who told you that? Mizuki Sensei. He told me about this scroll, and this place… Mizuki did?! I\\'m impressed you found this place. I see now…how it is. Naruto, give me that scroll. Wait, wait… What\\'s going on here? Naruto! Never give him that scroll! It is a dangerous object that contains forbidden Ninja Jutsu. It was sealed. Mizuki used you in order to get it for himself! W-Wha--? Naruto, Iruka is only afraid of you holding that scroll! Huh? What are you saying, Mizuki! Don\\'t let him fool you, Naruto! I will tell you the truth. Idiot! Don\\'t do that! After an incident 12 years ago, a rule was created. A rule? That is, Naruto, a rule everybody but you knows. Except me?! \\t\\t\\t\\t\\tWhat is it? Stop it, Mizuki! The rule forbids anyone from revealing that you are actually the Demon Fox Spirit! Huh? You are actually the Demon, Nine-Tailed Fox Spirit, who killed Iruka\\'s parents and destroyed our village! Stop it! Everyone has been deceiving you ever since. Didn\\'t you find it strange? Why everyone hated you so much? No! No! No! No! No! Naruto… Nobody accepts you. That\\'s why Iruka hates you so much! Iruka... Naruto grew up without the love of parents. Everyone avoids him like the plague after what happened. That\\'s why he keeps misbehaving. It\\'s the only way for him to get any attention or acknowledgement. He pretends to be tough, but inside he is really hurting. Die, Naruto! Naruto! \\t\\t\\t\\t\\tGet down! Why…? Because you and I are the same. After my parents died, nobody paid attention to me or gave me any support. I wasn\\'t a good student in school. I was the class clown… because I wanted people to notice me. I couldn\\'t get noticed through excellence, so I kept doing stupid things. It was so hard. Isn\\'t that right, Naruto? You felt so lonely…right? And you suffered inside, right? I\\'m sorry, Naruto…. If I had been more responsible, maybe you wouldn\\'t have suffered so much. Don\\'t make me laugh! Iruka has always hated you, ever since you killed his parents! He\\'s just saying all that to get the Scroll of Sealing back! Naruto! Narutoooooo! He is not the type of kid who will change his mind. He will take revenge against our village using that scroll! Didn\\'t you see his eyes? Those are the eyes of a Demon Fox. No… Naruto…isn\\'t…like that at all! All I want is to kill Naruto and get the scroll. I\\'ll take care of you later! I-I won\\'t let you… Well, well. Mizuki has a big mouth! Naruto feels worse than he\\'s ever felt. He might unleash the power locked up inside him. The Scroll of Sealing is now with him. There\\'s a slight chance he might actually release the Nine-Tailed Fox Spirit sealed inside him! If that happens… I\\'ve found him! Naruto! Everything that Mizuki said was a lie! Give me that scroll, quick! Mizuki is after the scroll! It can\\'t be… Why is it, Naruto? How… did you know I wasn\\'t Iruka…? Because I\\'m Iruka. I see. What\\'s in it for you to protect the one who killed your family? I\\'m not gonna let a stupid idiot like you get that scroll! You\\'re the idiot. Naruto is the same as me. Same? Anyone can do whatever he wants once he has the scroll. There is no way that that monster… that Fox Spirit, won\\'t take advantage of the power of that scroll! You\\'re right… I guess it was true all along! See, Iruka Sensei never really cared for me at all! ...if he was the Demon Fox Spirit. But Naruto is different! I know that he is an exceptional student. He works very hard, and he\\'s single-minded and clumsy at the same time. No one accepts him, but he knows the meaning of human suffering. He is not the Demon Fox Spirit. He\\'s Naruto Uzumaki of the Village Hidden in the Leaves! You are so gullible. \\t\\t\\t\\t\\tlruka! I was gonna take you down later, but I have changed my mind. Die! I guess this is the end for me… Naruto?! You surprised me there, freak. If you ever lay a hand on Iruka Sensei, I\\'ll kill you! Shut up! I can take care of a kid like you with a single blow! Why don\\'t you try then? I\\'ll strike you back a thousand-fold! Let\\'s see you try! Show me what you can do, Demon Fox! Shadow Clone Jutsu! Naruto! You\\'ve… Those aren\\'t just images but actual clones! That\\'s an advanced Ninjutsu! What\\'s this…? What\\'s the matter? \\t\\t\\t\\t\\tC\\'mon! Weren\\'t you gonna get me with one blow? Here! In that case… I\\'ll come to you. I kinda got carried away. lruka Sensei, are you okay? Yeah. He\\'s really something. Maybe it is true. Maybe he will surpass all the Hokage leaders… Naruto, come over here. I\\'d like to give you something. Has anyone found Naruto yet? No. Darn, this is going to be bad… There\\'s no need to worry anymore. Lord Hokage! He\\'ll be back soon. Sensei, how much longer? OK, you may open your eyes now. Congratulations…on your graduation. In celebration, we\\'ll have ramen tonight! Iruka Sensei! That hurts! Naruto… I was going to lecture to you... that the road gets more difficult now that you\\'re a Ninja. But I guess I\\'ll just wait to tell you that until we get to the ramen stand… W-What do you want, you little shrimp? Quit following me! You\\'re smaller than me and you\\'re saying that you\\'re gonna become the Fifth Hokage? I don\\'t care if you are the 3rd Hokage\\'s grandson or not. It\\'s not that easy to be a Hokage! If you want it that bad, you\\'re gonna have to beat me first! Next episode:  \"My Name Is Konohamaru!\" Watch my outstanding performance!'"
      ]
     },
     "execution_count": 25,
     "metadata": {},
     "output_type": "execute_result"
    }
   ],
   "source": [
    "script"
   ]
  },
  {
   "cell_type": "code",
   "execution_count": 26,
   "metadata": {},
   "outputs": [
    {
     "name": "stderr",
     "output_type": "stream",
     "text": [
      "[nltk_data] Downloading package punkt to\n",
      "[nltk_data]     C:\\Users\\Dell\\AppData\\Roaming\\nltk_data...\n",
      "[nltk_data]   Package punkt is already up-to-date!\n",
      "[nltk_data] Downloading package punkt_tab to\n",
      "[nltk_data]     C:\\Users\\Dell\\AppData\\Roaming\\nltk_data...\n",
      "[nltk_data]   Package punkt_tab is already up-to-date!\n"
     ]
    },
    {
     "data": {
      "text/plain": [
       "['A long time ago, a powerful demon fox appeared with nine tails.',\n",
       " 'With its powerful tails, it could smash mountains and create tidal waves.',\n",
       " 'A band of Ninjas rose to defend their village from attack.',\n",
       " 'We have to wait until the Fourth Hokage gets here!',\n",
       " \"We can't let it get any closer to our village!\"]"
      ]
     },
     "execution_count": 26,
     "metadata": {},
     "output_type": "execute_result"
    }
   ],
   "source": [
    "import nltk\n",
    "nltk.download('punkt')\n",
    "nltk.download('punkt_tab')\n",
    "\n",
    "from nltk.tokenize import sent_tokenize\n",
    "\n",
    "script_sentences = sent_tokenize(script)\n",
    "script_sentences[:5]"
   ]
  },
  {
   "cell_type": "code",
   "execution_count": 27,
   "metadata": {},
   "outputs": [],
   "source": [
    "#Batch Sentence\n",
    "sentence_batch_size = 20\n",
    "\n",
    "script_batches = []\n",
    "\n",
    "for index in range(0,len(script_sentences),sentence_batch_size):\n",
    "    sent = ' '.join(script_sentences[index:index+sentence_batch_size])\n",
    "    script_batches.append(sent)\n",
    "    break"
   ]
  },
  {
   "cell_type": "code",
   "execution_count": 28,
   "metadata": {},
   "outputs": [
    {
     "data": {
      "text/plain": [
       "[\"A long time ago, a powerful demon fox appeared with nine tails. With its powerful tails, it could smash mountains and create tidal waves. A band of Ninjas rose to defend their village from attack. We have to wait until the Fourth Hokage gets here! We can't let it get any closer to our village! One great Ninja was able to imprison the monster, but died in the process. This Ninja was known as… the Fourth Hokage. Naruto! Why did you do such a thing?! You're really gonna get it this time! I don't care! You know your problem? You can't do the things I do! Only I can do this! I'm better than all of you! Believe it! There's a problem, sir! Lord Hokage! What is it? Did that Naruto do something again?\"]"
      ]
     },
     "execution_count": 28,
     "metadata": {},
     "output_type": "execute_result"
    }
   ],
   "source": [
    "script_batches[:2]"
   ]
  },
  {
   "cell_type": "code",
   "execution_count": 29,
   "metadata": {},
   "outputs": [],
   "source": [
    "theme_output = theme_classifier(\n",
    "    script_batches[:3],\n",
    "    theme_list,\n",
    "    multi_label=True\n",
    ")"
   ]
  },
  {
   "cell_type": "code",
   "execution_count": 30,
   "metadata": {},
   "outputs": [
    {
     "data": {
      "text/plain": [
       "[{'sequence': \"A long time ago, a powerful demon fox appeared with nine tails. With its powerful tails, it could smash mountains and create tidal waves. A band of Ninjas rose to defend their village from attack. We have to wait until the Fourth Hokage gets here! We can't let it get any closer to our village! One great Ninja was able to imprison the monster, but died in the process. This Ninja was known as… the Fourth Hokage. Naruto! Why did you do such a thing?! You're really gonna get it this time! I don't care! You know your problem? You can't do the things I do! Only I can do this! I'm better than all of you! Believe it! There's a problem, sir! Lord Hokage! What is it? Did that Naruto do something again?\",\n",
       "  'labels': ['dialogue',\n",
       "   'betrayal',\n",
       "   'battle',\n",
       "   'sacrifice',\n",
       "   'self development',\n",
       "   'hope',\n",
       "   'friendship',\n",
       "   'love'],\n",
       "  'scores': [0.9790685176849365,\n",
       "   0.9497538805007935,\n",
       "   0.8569777011871338,\n",
       "   0.7666410207748413,\n",
       "   0.7487478256225586,\n",
       "   0.1931648552417755,\n",
       "   0.06438511610031128,\n",
       "   0.04339258000254631]}]"
      ]
     },
     "execution_count": 30,
     "metadata": {},
     "output_type": "execute_result"
    }
   ],
   "source": [
    "theme_output"
   ]
  },
  {
   "cell_type": "code",
   "execution_count": 31,
   "metadata": {},
   "outputs": [],
   "source": [
    "#wrangle output \n",
    "#battle [0.9567,9.03]\n",
    "#so it will be presenting the batch score next to each other\n",
    "themes = {}\n",
    "for output in theme_output:\n",
    "    for label,score in zip(output['labels'],output['scores']):\n",
    "        if label not in themes:\n",
    "            themes[label] = []\n",
    "            \n",
    "        themes[label].append(score)"
   ]
  },
  {
   "cell_type": "code",
   "execution_count": 32,
   "metadata": {},
   "outputs": [
    {
     "data": {
      "text/plain": [
       "{'dialogue': [0.9790685176849365],\n",
       " 'betrayal': [0.9497538805007935],\n",
       " 'battle': [0.8569777011871338],\n",
       " 'sacrifice': [0.7666410207748413],\n",
       " 'self development': [0.7487478256225586],\n",
       " 'hope': [0.1931648552417755],\n",
       " 'friendship': [0.06438511610031128],\n",
       " 'love': [0.04339258000254631]}"
      ]
     },
     "execution_count": 32,
     "metadata": {},
     "output_type": "execute_result"
    }
   ],
   "source": [
    "themes"
   ]
  },
  {
   "cell_type": "code",
   "execution_count": 33,
   "metadata": {},
   "outputs": [],
   "source": [
    "def get_themes_inference(script):\n",
    "    script_sentences = sent_tokenize(script)\n",
    "\n",
    "    # Batch Sentence\n",
    "    sentence_batch_size=20\n",
    "    script_batches = []\n",
    "    for index in range(0,len(script_sentences),sentence_batch_size):\n",
    "        sent = \" \".join(script_sentences[index:index+sentence_batch_size])\n",
    "        script_batches.append(sent)\n",
    "    \n",
    "    # Run Model\n",
    "    theme_output = theme_classifier(\n",
    "        script_batches[:2],\n",
    "        theme_list,\n",
    "        multi_label=True\n",
    "    )\n",
    "\n",
    "    # Wrangle Output \n",
    "    themes = {}\n",
    "    for output in theme_output:\n",
    "        for label,score in zip(output['labels'],output['scores']):\n",
    "            if label not in themes:\n",
    "                themes[label] = []\n",
    "            themes[label].append(score)\n",
    "\n",
    "    themes = {key: np.mean(np.array(value)) for key,value in themes.items()}\n",
    "\n",
    "    return themes"
   ]
  },
  {
   "cell_type": "code",
   "execution_count": 34,
   "metadata": {},
   "outputs": [
    {
     "data": {
      "text/html": [
       "<div>\n",
       "<style scoped>\n",
       "    .dataframe tbody tr th:only-of-type {\n",
       "        vertical-align: middle;\n",
       "    }\n",
       "\n",
       "    .dataframe tbody tr th {\n",
       "        vertical-align: top;\n",
       "    }\n",
       "\n",
       "    .dataframe thead th {\n",
       "        text-align: right;\n",
       "    }\n",
       "</style>\n",
       "<table border=\"1\" class=\"dataframe\">\n",
       "  <thead>\n",
       "    <tr style=\"text-align: right;\">\n",
       "      <th></th>\n",
       "      <th>episode</th>\n",
       "      <th>script</th>\n",
       "    </tr>\n",
       "  </thead>\n",
       "  <tbody>\n",
       "    <tr>\n",
       "      <th>0</th>\n",
       "      <td>1</td>\n",
       "      <td>A long time ago, a powerful demon fox appeared...</td>\n",
       "    </tr>\n",
       "    <tr>\n",
       "      <th>1</th>\n",
       "      <td>2</td>\n",
       "      <td>C'mon! Running like a fugitive, Being chased b...</td>\n",
       "    </tr>\n",
       "  </tbody>\n",
       "</table>\n",
       "</div>"
      ],
      "text/plain": [
       "   episode                                             script\n",
       "0        1  A long time ago, a powerful demon fox appeared...\n",
       "1        2  C'mon! Running like a fugitive, Being chased b..."
      ]
     },
     "execution_count": 34,
     "metadata": {},
     "output_type": "execute_result"
    }
   ],
   "source": [
    "df.head(2)"
   ]
  },
  {
   "cell_type": "code",
   "execution_count": 35,
   "metadata": {},
   "outputs": [],
   "source": [
    "output_themes = df['script'][:2].apply(get_themes_inference)"
   ]
  },
  {
   "cell_type": "code",
   "execution_count": 36,
   "metadata": {},
   "outputs": [
    {
     "data": {
      "text/plain": [
       "0    {'dialogue': 0.9471538364887238, 'betrayal': 0...\n",
       "1    {'dialogue': 0.8331516683101654, 'love': 0.231...\n",
       "Name: script, dtype: object"
      ]
     },
     "execution_count": 36,
     "metadata": {},
     "output_type": "execute_result"
    }
   ],
   "source": [
    "output_themes"
   ]
  },
  {
   "cell_type": "code",
   "execution_count": 37,
   "metadata": {},
   "outputs": [],
   "source": [
    "theme_df = pd.DataFrame(output_themes.tolist())"
   ]
  },
  {
   "cell_type": "code",
   "execution_count": 38,
   "metadata": {},
   "outputs": [
    {
     "data": {
      "text/html": [
       "<div>\n",
       "<style scoped>\n",
       "    .dataframe tbody tr th:only-of-type {\n",
       "        vertical-align: middle;\n",
       "    }\n",
       "\n",
       "    .dataframe tbody tr th {\n",
       "        vertical-align: top;\n",
       "    }\n",
       "\n",
       "    .dataframe thead th {\n",
       "        text-align: right;\n",
       "    }\n",
       "</style>\n",
       "<table border=\"1\" class=\"dataframe\">\n",
       "  <thead>\n",
       "    <tr style=\"text-align: right;\">\n",
       "      <th></th>\n",
       "      <th>dialogue</th>\n",
       "      <th>betrayal</th>\n",
       "      <th>battle</th>\n",
       "      <th>sacrifice</th>\n",
       "      <th>self development</th>\n",
       "      <th>hope</th>\n",
       "      <th>friendship</th>\n",
       "      <th>love</th>\n",
       "    </tr>\n",
       "  </thead>\n",
       "  <tbody>\n",
       "    <tr>\n",
       "      <th>0</th>\n",
       "      <td>0.947154</td>\n",
       "      <td>0.821115</td>\n",
       "      <td>0.751901</td>\n",
       "      <td>0.677606</td>\n",
       "      <td>0.797318</td>\n",
       "      <td>0.164627</td>\n",
       "      <td>0.061933</td>\n",
       "      <td>0.030865</td>\n",
       "    </tr>\n",
       "    <tr>\n",
       "      <th>1</th>\n",
       "      <td>0.833152</td>\n",
       "      <td>0.385404</td>\n",
       "      <td>0.523823</td>\n",
       "      <td>0.364380</td>\n",
       "      <td>0.356160</td>\n",
       "      <td>0.174275</td>\n",
       "      <td>0.028539</td>\n",
       "      <td>0.231184</td>\n",
       "    </tr>\n",
       "  </tbody>\n",
       "</table>\n",
       "</div>"
      ],
      "text/plain": [
       "   dialogue  betrayal    battle  sacrifice  self development      hope  \\\n",
       "0  0.947154  0.821115  0.751901   0.677606          0.797318  0.164627   \n",
       "1  0.833152  0.385404  0.523823   0.364380          0.356160  0.174275   \n",
       "\n",
       "   friendship      love  \n",
       "0    0.061933  0.030865  \n",
       "1    0.028539  0.231184  "
      ]
     },
     "execution_count": 38,
     "metadata": {},
     "output_type": "execute_result"
    }
   ],
   "source": [
    "theme_df.head()"
   ]
  },
  {
   "cell_type": "code",
   "execution_count": 39,
   "metadata": {},
   "outputs": [
    {
     "data": {
      "text/html": [
       "<div>\n",
       "<style scoped>\n",
       "    .dataframe tbody tr th:only-of-type {\n",
       "        vertical-align: middle;\n",
       "    }\n",
       "\n",
       "    .dataframe tbody tr th {\n",
       "        vertical-align: top;\n",
       "    }\n",
       "\n",
       "    .dataframe thead th {\n",
       "        text-align: right;\n",
       "    }\n",
       "</style>\n",
       "<table border=\"1\" class=\"dataframe\">\n",
       "  <thead>\n",
       "    <tr style=\"text-align: right;\">\n",
       "      <th></th>\n",
       "      <th>episode</th>\n",
       "      <th>script</th>\n",
       "    </tr>\n",
       "  </thead>\n",
       "  <tbody>\n",
       "    <tr>\n",
       "      <th>0</th>\n",
       "      <td>1</td>\n",
       "      <td>A long time ago, a powerful demon fox appeared...</td>\n",
       "    </tr>\n",
       "    <tr>\n",
       "      <th>1</th>\n",
       "      <td>2</td>\n",
       "      <td>C'mon! Running like a fugitive, Being chased b...</td>\n",
       "    </tr>\n",
       "  </tbody>\n",
       "</table>\n",
       "</div>"
      ],
      "text/plain": [
       "   episode                                             script\n",
       "0        1  A long time ago, a powerful demon fox appeared...\n",
       "1        2  C'mon! Running like a fugitive, Being chased b..."
      ]
     },
     "execution_count": 39,
     "metadata": {},
     "output_type": "execute_result"
    }
   ],
   "source": [
    "df.head(2)"
   ]
  },
  {
   "cell_type": "code",
   "execution_count": 40,
   "metadata": {},
   "outputs": [],
   "source": [
    "df[theme_df.columns] = theme_df"
   ]
  },
  {
   "cell_type": "code",
   "execution_count": 41,
   "metadata": {},
   "outputs": [
    {
     "data": {
      "text/html": [
       "<div>\n",
       "<style scoped>\n",
       "    .dataframe tbody tr th:only-of-type {\n",
       "        vertical-align: middle;\n",
       "    }\n",
       "\n",
       "    .dataframe tbody tr th {\n",
       "        vertical-align: top;\n",
       "    }\n",
       "\n",
       "    .dataframe thead th {\n",
       "        text-align: right;\n",
       "    }\n",
       "</style>\n",
       "<table border=\"1\" class=\"dataframe\">\n",
       "  <thead>\n",
       "    <tr style=\"text-align: right;\">\n",
       "      <th></th>\n",
       "      <th>episode</th>\n",
       "      <th>script</th>\n",
       "      <th>dialogue</th>\n",
       "      <th>betrayal</th>\n",
       "      <th>battle</th>\n",
       "      <th>sacrifice</th>\n",
       "      <th>self development</th>\n",
       "      <th>hope</th>\n",
       "      <th>friendship</th>\n",
       "      <th>love</th>\n",
       "    </tr>\n",
       "  </thead>\n",
       "  <tbody>\n",
       "    <tr>\n",
       "      <th>0</th>\n",
       "      <td>1</td>\n",
       "      <td>A long time ago, a powerful demon fox appeared...</td>\n",
       "      <td>0.947154</td>\n",
       "      <td>0.821115</td>\n",
       "      <td>0.751901</td>\n",
       "      <td>0.677606</td>\n",
       "      <td>0.797318</td>\n",
       "      <td>0.164627</td>\n",
       "      <td>0.061933</td>\n",
       "      <td>0.030865</td>\n",
       "    </tr>\n",
       "    <tr>\n",
       "      <th>1</th>\n",
       "      <td>2</td>\n",
       "      <td>C'mon! Running like a fugitive, Being chased b...</td>\n",
       "      <td>0.833152</td>\n",
       "      <td>0.385404</td>\n",
       "      <td>0.523823</td>\n",
       "      <td>0.364380</td>\n",
       "      <td>0.356160</td>\n",
       "      <td>0.174275</td>\n",
       "      <td>0.028539</td>\n",
       "      <td>0.231184</td>\n",
       "    </tr>\n",
       "    <tr>\n",
       "      <th>2</th>\n",
       "      <td>3</td>\n",
       "      <td>C'mon! Running like a fugitive, Being chased b...</td>\n",
       "      <td>NaN</td>\n",
       "      <td>NaN</td>\n",
       "      <td>NaN</td>\n",
       "      <td>NaN</td>\n",
       "      <td>NaN</td>\n",
       "      <td>NaN</td>\n",
       "      <td>NaN</td>\n",
       "      <td>NaN</td>\n",
       "    </tr>\n",
       "    <tr>\n",
       "      <th>3</th>\n",
       "      <td>4</td>\n",
       "      <td>C'mon! Running like a fugitive, Being chased b...</td>\n",
       "      <td>NaN</td>\n",
       "      <td>NaN</td>\n",
       "      <td>NaN</td>\n",
       "      <td>NaN</td>\n",
       "      <td>NaN</td>\n",
       "      <td>NaN</td>\n",
       "      <td>NaN</td>\n",
       "      <td>NaN</td>\n",
       "    </tr>\n",
       "    <tr>\n",
       "      <th>4</th>\n",
       "      <td>5</td>\n",
       "      <td>C'mon! Running like a fugitive, Being chased b...</td>\n",
       "      <td>NaN</td>\n",
       "      <td>NaN</td>\n",
       "      <td>NaN</td>\n",
       "      <td>NaN</td>\n",
       "      <td>NaN</td>\n",
       "      <td>NaN</td>\n",
       "      <td>NaN</td>\n",
       "      <td>NaN</td>\n",
       "    </tr>\n",
       "  </tbody>\n",
       "</table>\n",
       "</div>"
      ],
      "text/plain": [
       "   episode                                             script  dialogue  \\\n",
       "0        1  A long time ago, a powerful demon fox appeared...  0.947154   \n",
       "1        2  C'mon! Running like a fugitive, Being chased b...  0.833152   \n",
       "2        3  C'mon! Running like a fugitive, Being chased b...       NaN   \n",
       "3        4  C'mon! Running like a fugitive, Being chased b...       NaN   \n",
       "4        5  C'mon! Running like a fugitive, Being chased b...       NaN   \n",
       "\n",
       "   betrayal    battle  sacrifice  self development      hope  friendship  \\\n",
       "0  0.821115  0.751901   0.677606          0.797318  0.164627    0.061933   \n",
       "1  0.385404  0.523823   0.364380          0.356160  0.174275    0.028539   \n",
       "2       NaN       NaN        NaN               NaN       NaN         NaN   \n",
       "3       NaN       NaN        NaN               NaN       NaN         NaN   \n",
       "4       NaN       NaN        NaN               NaN       NaN         NaN   \n",
       "\n",
       "       love  \n",
       "0  0.030865  \n",
       "1  0.231184  \n",
       "2       NaN  \n",
       "3       NaN  \n",
       "4       NaN  "
      ]
     },
     "execution_count": 41,
     "metadata": {},
     "output_type": "execute_result"
    }
   ],
   "source": [
    "df.head()"
   ]
  },
  {
   "cell_type": "code",
   "execution_count": 42,
   "metadata": {},
   "outputs": [],
   "source": [
    "#Visualize output\n",
    "df = df.drop('dialogue',axis = 1)"
   ]
  },
  {
   "cell_type": "code",
   "execution_count": 43,
   "metadata": {},
   "outputs": [
    {
     "data": {
      "text/html": [
       "<div>\n",
       "<style scoped>\n",
       "    .dataframe tbody tr th:only-of-type {\n",
       "        vertical-align: middle;\n",
       "    }\n",
       "\n",
       "    .dataframe tbody tr th {\n",
       "        vertical-align: top;\n",
       "    }\n",
       "\n",
       "    .dataframe thead th {\n",
       "        text-align: right;\n",
       "    }\n",
       "</style>\n",
       "<table border=\"1\" class=\"dataframe\">\n",
       "  <thead>\n",
       "    <tr style=\"text-align: right;\">\n",
       "      <th></th>\n",
       "      <th>theme</th>\n",
       "      <th>score</th>\n",
       "    </tr>\n",
       "  </thead>\n",
       "  <tbody>\n",
       "    <tr>\n",
       "      <th>0</th>\n",
       "      <td>betrayal</td>\n",
       "      <td>1.206520</td>\n",
       "    </tr>\n",
       "    <tr>\n",
       "      <th>1</th>\n",
       "      <td>battle</td>\n",
       "      <td>1.275725</td>\n",
       "    </tr>\n",
       "    <tr>\n",
       "      <th>2</th>\n",
       "      <td>sacrifice</td>\n",
       "      <td>1.041986</td>\n",
       "    </tr>\n",
       "    <tr>\n",
       "      <th>3</th>\n",
       "      <td>self development</td>\n",
       "      <td>1.153478</td>\n",
       "    </tr>\n",
       "    <tr>\n",
       "      <th>4</th>\n",
       "      <td>hope</td>\n",
       "      <td>0.338902</td>\n",
       "    </tr>\n",
       "    <tr>\n",
       "      <th>5</th>\n",
       "      <td>friendship</td>\n",
       "      <td>0.090473</td>\n",
       "    </tr>\n",
       "    <tr>\n",
       "      <th>6</th>\n",
       "      <td>love</td>\n",
       "      <td>0.262049</td>\n",
       "    </tr>\n",
       "  </tbody>\n",
       "</table>\n",
       "</div>"
      ],
      "text/plain": [
       "              theme     score\n",
       "0          betrayal  1.206520\n",
       "1            battle  1.275725\n",
       "2         sacrifice  1.041986\n",
       "3  self development  1.153478\n",
       "4              hope  0.338902\n",
       "5        friendship  0.090473\n",
       "6              love  0.262049"
      ]
     },
     "execution_count": 43,
     "metadata": {},
     "output_type": "execute_result"
    }
   ],
   "source": [
    "theme_output = df.drop(['episode','script'],axis=1).sum().reset_index()\n",
    "theme_output.columns = ['theme','score']\n",
    "theme_output"
   ]
  },
  {
   "cell_type": "code",
   "execution_count": 44,
   "metadata": {},
   "outputs": [],
   "source": [
    "import matplotlib.pyplot as plt\n",
    "import seaborn as sns"
   ]
  },
  {
   "cell_type": "code",
   "execution_count": 45,
   "metadata": {},
   "outputs": [
    {
     "data": {
      "image/png": "[encoded data removed]",
      "text/plain": [
       "<Figure size 640x480 with 1 Axes>"
      ]
     },
     "metadata": {},
     "output_type": "display_data"
    }
   ],
   "source": [
    "sns.barplot(data = theme_output ,x=\"theme\",y=\"score\" )\n",
    "plt.xticks(rotation=45)\n",
    "plt.show()"
   ]
  },
  {
   "cell_type": "code",
   "execution_count": null,
   "metadata": {},
   "outputs": [],
   "source": []
  }
 ],
 "metadata": {
  "kernelspec": {
   "display_name": "Python 3",
   "language": "python",
   "name": "python3"
  },
  "language_info": {
   "codemirror_mode": {
    "name": "ipython",
    "version": 3
   },
   "file_extension": ".py",
   "mimetype": "text/x-python",
   "name": "python",
   "nbconvert_exporter": "python",
   "pygments_lexer": "ipython3",
   "version": "3.12.4"
  }
 },
 "nbformat": 4,
 "nbformat_minor": 2
}
